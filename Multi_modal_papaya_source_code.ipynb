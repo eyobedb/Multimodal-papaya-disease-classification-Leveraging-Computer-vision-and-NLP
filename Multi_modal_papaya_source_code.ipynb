{
  "nbformat": 4,
  "nbformat_minor": 0,
  "metadata": {
    "colab": {
      "provenance": [],
      "mount_file_id": "1inIeelwBz8Tjg-kT1zNl93HATV-f1TGk",
      "authorship_tag": "ABX9TyOnHanHaAo19fjW7BaYh2Q/",
      "include_colab_link": true
    },
    "kernelspec": {
      "name": "python3",
      "display_name": "Python 3"
    },
    "language_info": {
      "name": "python"
    }
  },
  "cells": [
    {
      "cell_type": "markdown",
      "metadata": {
        "id": "view-in-github",
        "colab_type": "text"
      },
      "source": [
        "<a href=\"https://colab.research.google.com/github/eyobedb/Multimodal-papaya-disease-classification-Leveraging-Computer-vision-and-NLP/blob/main/XAI_Multi_modal_papaya.ipynb\" target=\"_parent\"><img src=\"https://colab.research.google.com/assets/colab-badge.svg\" alt=\"Open In Colab\"/></a>"
      ]
    },
    {
      "cell_type": "code",
      "execution_count": null,
      "metadata": {
        "id": "8XUOnyPM8rNa"
      },
      "outputs": [],
      "source": [
        "import tensorflow as tf\n",
        "from tensorflow.keras import layers, models, applications\n",
        "from tensorflow.keras.preprocessing.image import ImageDataGenerator\n",
        "from tensorflow.keras.preprocessing.text import Tokenizer\n",
        "from tensorflow.keras.preprocessing.sequence import pad_sequences\n",
        "import numpy as np\n",
        "from sklearn.metrics import confusion_matrix, classification_report\n",
        "import os"
      ]
    },
    {
      "cell_type": "code",
      "source": [
        "# -----------------------------\n",
        "# CONFIGURATION\n",
        "# -----------------------------\n",
        "IMAGE_SIZE = (128, 128)\n",
        "BATCH_SIZE = 16\n",
        "EPOCHS = 10\n",
        "NUM_CLASSES = 4  # Black_spot, Powdery_mildew, Ring_spot, Healthy\n",
        "MAX_LEN = 50\n"
      ],
      "metadata": {
        "id": "Kj1Cp50i80q-"
      },
      "execution_count": null,
      "outputs": []
    },
    {
      "cell_type": "code",
      "source": [
        "from tensorflow.keras import mixed_precision\n",
        "mixed_precision.set_global_policy('mixed_float16')"
      ],
      "metadata": {
        "id": "CWHG8c6uR6_F"
      },
      "execution_count": null,
      "outputs": []
    },
    {
      "cell_type": "markdown",
      "source": [
        "# -----------------------------\n",
        "# 1. LOAD IMAGE DATA\n",
        "# -----------------------------"
      ],
      "metadata": {
        "id": "2z2OlNumA9_p"
      }
    },
    {
      "cell_type": "code",
      "source": [
        "train_dir = \"/content/drive/MyDrive/Dataset/Train\"\n",
        "test_dir = \"/content/drive/MyDrive/Dataset/Test\"\n",
        "\n",
        "datagen = ImageDataGenerator(rescale=1./255)"
      ],
      "metadata": {
        "id": "cvbnPC079Dup"
      },
      "execution_count": null,
      "outputs": []
    },
    {
      "cell_type": "code",
      "source": [
        "train_image_gen = datagen.flow_from_directory(\n",
        "    train_dir,\n",
        "    target_size=IMAGE_SIZE,\n",
        "    batch_size=BATCH_SIZE,\n",
        "    class_mode='categorical',\n",
        "    shuffle=True,\n",
        "    seed=42\n",
        ")\n",
        "\n"
      ],
      "metadata": {
        "colab": {
          "base_uri": "https://localhost:8080/"
        },
        "id": "8YZK7sXB_qlo",
        "outputId": "ba6a1110-2ffb-4286-f32c-514191d46655"
      },
      "execution_count": null,
      "outputs": [
        {
          "output_type": "stream",
          "name": "stdout",
          "text": [
            "Found 5760 images belonging to 4 classes.\n"
          ]
        }
      ]
    },
    {
      "cell_type": "code",
      "source": [
        "test_image_gen = datagen.flow_from_directory(\n",
        "    test_dir,\n",
        "    target_size=IMAGE_SIZE,\n",
        "    batch_size=BATCH_SIZE,\n",
        "    class_mode='categorical',\n",
        "    shuffle=False\n",
        ")"
      ],
      "metadata": {
        "colab": {
          "base_uri": "https://localhost:8080/"
        },
        "id": "PsiF_hZv_y2Q",
        "outputId": "5794ddf8-cb9b-40b5-e297-6d2cc8f6a365"
      },
      "execution_count": null,
      "outputs": [
        {
          "output_type": "stream",
          "name": "stdout",
          "text": [
            "Found 1600 images belonging to 4 classes.\n"
          ]
        }
      ]
    },
    {
      "cell_type": "markdown",
      "source": [
        "# -----------------------------\n",
        "# 2. CREATE TEXT DATA\n",
        "# -----------------------------\n",
        "# (Descriptions for each class)"
      ],
      "metadata": {
        "id": "CiMyd68OA3rP"
      }
    },
    {
      "cell_type": "code",
      "source": [
        "\n",
        "text_descriptions = {\n",
        "    'Black_spot_papaya': 'Leaves covered with black spots indicating black spot infection.',\n",
        "    'Powdery_mildew': 'Papaya leaves showing powdery mildew infection typical of powdery disease.',\n",
        "    'Ring_spot_papaya': 'Ring spot disease on papaya leaves indicating ring spot disease.',\n",
        "    'Healthy_papaya': 'Healthy Papaya leaf with no visible signs of disease or damage.'\n",
        "}"
      ],
      "metadata": {
        "id": "UoNNz28q_zP9"
      },
      "execution_count": null,
      "outputs": []
    },
    {
      "cell_type": "code",
      "source": [
        "# Assign each image its class text\n",
        "train_texts = [text_descriptions[os.path.basename(os.path.dirname(p))] for p in train_image_gen.filepaths]\n",
        "test_texts  = [text_descriptions[os.path.basename(os.path.dirname(p))] for p in test_image_gen.filepaths]\n"
      ],
      "metadata": {
        "id": "BVJsAAOJ_zh2"
      },
      "execution_count": null,
      "outputs": []
    },
    {
      "cell_type": "markdown",
      "source": [
        "# -----------------------------\n",
        "# 3. TEXT TOKENIZATION\n",
        "# -----------------------------"
      ],
      "metadata": {
        "id": "4OR3gWGXA0hb"
      }
    },
    {
      "cell_type": "code",
      "source": [
        "tokenizer = Tokenizer()\n",
        "tokenizer.fit_on_texts(list(text_descriptions.values()))\n",
        "\n",
        "train_seq = tokenizer.texts_to_sequences(train_texts)\n",
        "test_seq  = tokenizer.texts_to_sequences(test_texts)\n",
        "\n",
        "train_pad = pad_sequences(train_seq, maxlen=MAX_LEN, padding='post', truncating='post')\n",
        "test_pad  = pad_sequences(test_seq,  maxlen=MAX_LEN, padding='post', truncating='post')\n",
        "vocab_size = len(tokenizer.word_index) + 1"
      ],
      "metadata": {
        "id": "XgMsPc_-_9jf"
      },
      "execution_count": null,
      "outputs": []
    },
    {
      "cell_type": "markdown",
      "source": [
        "# -----------------------------\n",
        "# 4. BUILD IMAGE MODEL (MobileNetV2)\n",
        "# -----------------------------"
      ],
      "metadata": {
        "id": "mHywZg-xAsVx"
      }
    },
    {
      "cell_type": "code",
      "source": [
        "image_base = applications.MobileNetV2(weights='imagenet', include_top=False,\n",
        "                                   input_shape=(*IMAGE_SIZE, 3))\n",
        "image_base.trainable = False\n",
        "\n",
        "image_model = models.Sequential([\n",
        "    image_base,\n",
        "    layers.GlobalAveragePooling2D(),\n",
        "    layers.Dense(256, activation='relu'),\n",
        "    layers.Dropout(0.3)\n",
        "])"
      ],
      "metadata": {
        "id": "LaDWpA5S_93g",
        "colab": {
          "base_uri": "https://localhost:8080/"
        },
        "outputId": "50f19d5d-79be-47b1-c284-d3eb11dc098d"
      },
      "execution_count": null,
      "outputs": [
        {
          "output_type": "stream",
          "name": "stdout",
          "text": [
            "Downloading data from https://storage.googleapis.com/tensorflow/keras-applications/mobilenet_v2/mobilenet_v2_weights_tf_dim_ordering_tf_kernels_1.0_128_no_top.h5\n",
            "\u001b[1m9406464/9406464\u001b[0m \u001b[32m━━━━━━━━━━━━━━━━━━━━\u001b[0m\u001b[37m\u001b[0m \u001b[1m0s\u001b[0m 0us/step\n"
          ]
        }
      ]
    },
    {
      "cell_type": "markdown",
      "source": [
        "# -----------------------------\n",
        "# 5. BUILD TEXT MODEL (Embedding + LSTM)\n",
        "# -----------------------------"
      ],
      "metadata": {
        "id": "pob2Y-BeAw5b"
      }
    },
    {
      "cell_type": "code",
      "source": [
        "text_input = layers.Input(shape=(MAX_LEN,), name=\"text_input\")\n",
        "y = layers.Embedding(vocab_size, 128, input_length=MAX_LEN)(text_input)\n",
        "y = layers.LSTM(128)(y)\n",
        "y = layers.Dense(128, activation='relu')(y)\n",
        "text_model = models.Model(inputs=text_input, outputs=y)\n"
      ],
      "metadata": {
        "id": "T2ua-12a_-Vc"
      },
      "execution_count": null,
      "outputs": []
    },
    {
      "cell_type": "markdown",
      "source": [
        "# -----------------------------\n",
        "# 6. COMBINE IMAGE + TEXT MODELS\n",
        "# -----------------------------"
      ],
      "metadata": {
        "id": "1rFl6jppAnfp"
      }
    },
    {
      "cell_type": "code",
      "source": [
        "image_input = layers.Input(shape=(*IMAGE_SIZE, 3), name=\"image_input\")\n",
        "img_features = image_model(image_input)\n",
        "\n",
        "combined = layers.concatenate([img_features, text_model.output])\n",
        "z = layers.Dense(128, activation='relu')(combined)\n",
        "z = layers.Dropout(0.3)(z)\n",
        "output = layers.Dense(NUM_CLASSES, activation='softmax')(z)\n",
        "\n",
        "model = models.Model(inputs=[image_input, text_model.input], outputs=output)\n",
        "model.compile(optimizer='adam', loss='categorical_crossentropy', metrics=['accuracy'])\n",
        "model.summary()"
      ],
      "metadata": {
        "colab": {
          "base_uri": "https://localhost:8080/",
          "height": 561
        },
        "id": "W1eWkvHm_-hy",
        "outputId": "97403391-b1f6-40d8-ef79-b66f200c1318"
      },
      "execution_count": null,
      "outputs": [
        {
          "output_type": "display_data",
          "data": {
            "text/plain": [
              "\u001b[1mModel: \"functional_5\"\u001b[0m\n"
            ],
            "text/html": [
              "<pre style=\"white-space:pre;overflow-x:auto;line-height:normal;font-family:Menlo,'DejaVu Sans Mono',consolas,'Courier New',monospace\"><span style=\"font-weight: bold\">Model: \"functional_5\"</span>\n",
              "</pre>\n"
            ]
          },
          "metadata": {}
        },
        {
          "output_type": "display_data",
          "data": {
            "text/plain": [
              "┏━━━━━━━━━━━━━━━━━━━━━┳━━━━━━━━━━━━━━━━━━━┳━━━━━━━━━━━━┳━━━━━━━━━━━━━━━━━━━┓\n",
              "┃\u001b[1m \u001b[0m\u001b[1mLayer (type)       \u001b[0m\u001b[1m \u001b[0m┃\u001b[1m \u001b[0m\u001b[1mOutput Shape     \u001b[0m\u001b[1m \u001b[0m┃\u001b[1m \u001b[0m\u001b[1m   Param #\u001b[0m\u001b[1m \u001b[0m┃\u001b[1m \u001b[0m\u001b[1mConnected to     \u001b[0m\u001b[1m \u001b[0m┃\n",
              "┡━━━━━━━━━━━━━━━━━━━━━╇━━━━━━━━━━━━━━━━━━━╇━━━━━━━━━━━━╇━━━━━━━━━━━━━━━━━━━┩\n",
              "│ text_input          │ (\u001b[38;5;45mNone\u001b[0m, \u001b[38;5;34m50\u001b[0m)        │          \u001b[38;5;34m0\u001b[0m │ -                 │\n",
              "│ (\u001b[38;5;33mInputLayer\u001b[0m)        │                   │            │                   │\n",
              "├─────────────────────┼───────────────────┼────────────┼───────────────────┤\n",
              "│ embedding_1         │ (\u001b[38;5;45mNone\u001b[0m, \u001b[38;5;34m50\u001b[0m, \u001b[38;5;34m128\u001b[0m)   │      \u001b[38;5;34m3,200\u001b[0m │ text_input[\u001b[38;5;34m0\u001b[0m][\u001b[38;5;34m0\u001b[0m]  │\n",
              "│ (\u001b[38;5;33mEmbedding\u001b[0m)         │                   │            │                   │\n",
              "├─────────────────────┼───────────────────┼────────────┼───────────────────┤\n",
              "│ image_input         │ (\u001b[38;5;45mNone\u001b[0m, \u001b[38;5;34m128\u001b[0m, \u001b[38;5;34m128\u001b[0m,  │          \u001b[38;5;34m0\u001b[0m │ -                 │\n",
              "│ (\u001b[38;5;33mInputLayer\u001b[0m)        │ \u001b[38;5;34m3\u001b[0m)                │            │                   │\n",
              "├─────────────────────┼───────────────────┼────────────┼───────────────────┤\n",
              "│ lstm_1 (\u001b[38;5;33mLSTM\u001b[0m)       │ (\u001b[38;5;45mNone\u001b[0m, \u001b[38;5;34m128\u001b[0m)       │    \u001b[38;5;34m131,584\u001b[0m │ embedding_1[\u001b[38;5;34m0\u001b[0m][\u001b[38;5;34m0\u001b[0m] │\n",
              "├─────────────────────┼───────────────────┼────────────┼───────────────────┤\n",
              "│ sequential          │ (\u001b[38;5;45mNone\u001b[0m, \u001b[38;5;34m256\u001b[0m)       │  \u001b[38;5;34m2,585,920\u001b[0m │ image_input[\u001b[38;5;34m0\u001b[0m][\u001b[38;5;34m0\u001b[0m] │\n",
              "│ (\u001b[38;5;33mSequential\u001b[0m)        │                   │            │                   │\n",
              "├─────────────────────┼───────────────────┼────────────┼───────────────────┤\n",
              "│ dense_6 (\u001b[38;5;33mDense\u001b[0m)     │ (\u001b[38;5;45mNone\u001b[0m, \u001b[38;5;34m128\u001b[0m)       │     \u001b[38;5;34m16,512\u001b[0m │ lstm_1[\u001b[38;5;34m0\u001b[0m][\u001b[38;5;34m0\u001b[0m]      │\n",
              "├─────────────────────┼───────────────────┼────────────┼───────────────────┤\n",
              "│ concatenate_2       │ (\u001b[38;5;45mNone\u001b[0m, \u001b[38;5;34m384\u001b[0m)       │          \u001b[38;5;34m0\u001b[0m │ sequential[\u001b[38;5;34m2\u001b[0m][\u001b[38;5;34m0\u001b[0m], │\n",
              "│ (\u001b[38;5;33mConcatenate\u001b[0m)       │                   │            │ dense_6[\u001b[38;5;34m0\u001b[0m][\u001b[38;5;34m0\u001b[0m]     │\n",
              "├─────────────────────┼───────────────────┼────────────┼───────────────────┤\n",
              "│ dense_7 (\u001b[38;5;33mDense\u001b[0m)     │ (\u001b[38;5;45mNone\u001b[0m, \u001b[38;5;34m128\u001b[0m)       │     \u001b[38;5;34m49,280\u001b[0m │ concatenate_2[\u001b[38;5;34m0\u001b[0m]… │\n",
              "├─────────────────────┼───────────────────┼────────────┼───────────────────┤\n",
              "│ dropout_3 (\u001b[38;5;33mDropout\u001b[0m) │ (\u001b[38;5;45mNone\u001b[0m, \u001b[38;5;34m128\u001b[0m)       │          \u001b[38;5;34m0\u001b[0m │ dense_7[\u001b[38;5;34m0\u001b[0m][\u001b[38;5;34m0\u001b[0m]     │\n",
              "├─────────────────────┼───────────────────┼────────────┼───────────────────┤\n",
              "│ dense_8 (\u001b[38;5;33mDense\u001b[0m)     │ (\u001b[38;5;45mNone\u001b[0m, \u001b[38;5;34m4\u001b[0m)         │        \u001b[38;5;34m516\u001b[0m │ dropout_3[\u001b[38;5;34m0\u001b[0m][\u001b[38;5;34m0\u001b[0m]   │\n",
              "└─────────────────────┴───────────────────┴────────────┴───────────────────┘\n"
            ],
            "text/html": [
              "<pre style=\"white-space:pre;overflow-x:auto;line-height:normal;font-family:Menlo,'DejaVu Sans Mono',consolas,'Courier New',monospace\">┏━━━━━━━━━━━━━━━━━━━━━┳━━━━━━━━━━━━━━━━━━━┳━━━━━━━━━━━━┳━━━━━━━━━━━━━━━━━━━┓\n",
              "┃<span style=\"font-weight: bold\"> Layer (type)        </span>┃<span style=\"font-weight: bold\"> Output Shape      </span>┃<span style=\"font-weight: bold\">    Param # </span>┃<span style=\"font-weight: bold\"> Connected to      </span>┃\n",
              "┡━━━━━━━━━━━━━━━━━━━━━╇━━━━━━━━━━━━━━━━━━━╇━━━━━━━━━━━━╇━━━━━━━━━━━━━━━━━━━┩\n",
              "│ text_input          │ (<span style=\"color: #00d7ff; text-decoration-color: #00d7ff\">None</span>, <span style=\"color: #00af00; text-decoration-color: #00af00\">50</span>)        │          <span style=\"color: #00af00; text-decoration-color: #00af00\">0</span> │ -                 │\n",
              "│ (<span style=\"color: #0087ff; text-decoration-color: #0087ff\">InputLayer</span>)        │                   │            │                   │\n",
              "├─────────────────────┼───────────────────┼────────────┼───────────────────┤\n",
              "│ embedding_1         │ (<span style=\"color: #00d7ff; text-decoration-color: #00d7ff\">None</span>, <span style=\"color: #00af00; text-decoration-color: #00af00\">50</span>, <span style=\"color: #00af00; text-decoration-color: #00af00\">128</span>)   │      <span style=\"color: #00af00; text-decoration-color: #00af00\">3,200</span> │ text_input[<span style=\"color: #00af00; text-decoration-color: #00af00\">0</span>][<span style=\"color: #00af00; text-decoration-color: #00af00\">0</span>]  │\n",
              "│ (<span style=\"color: #0087ff; text-decoration-color: #0087ff\">Embedding</span>)         │                   │            │                   │\n",
              "├─────────────────────┼───────────────────┼────────────┼───────────────────┤\n",
              "│ image_input         │ (<span style=\"color: #00d7ff; text-decoration-color: #00d7ff\">None</span>, <span style=\"color: #00af00; text-decoration-color: #00af00\">128</span>, <span style=\"color: #00af00; text-decoration-color: #00af00\">128</span>,  │          <span style=\"color: #00af00; text-decoration-color: #00af00\">0</span> │ -                 │\n",
              "│ (<span style=\"color: #0087ff; text-decoration-color: #0087ff\">InputLayer</span>)        │ <span style=\"color: #00af00; text-decoration-color: #00af00\">3</span>)                │            │                   │\n",
              "├─────────────────────┼───────────────────┼────────────┼───────────────────┤\n",
              "│ lstm_1 (<span style=\"color: #0087ff; text-decoration-color: #0087ff\">LSTM</span>)       │ (<span style=\"color: #00d7ff; text-decoration-color: #00d7ff\">None</span>, <span style=\"color: #00af00; text-decoration-color: #00af00\">128</span>)       │    <span style=\"color: #00af00; text-decoration-color: #00af00\">131,584</span> │ embedding_1[<span style=\"color: #00af00; text-decoration-color: #00af00\">0</span>][<span style=\"color: #00af00; text-decoration-color: #00af00\">0</span>] │\n",
              "├─────────────────────┼───────────────────┼────────────┼───────────────────┤\n",
              "│ sequential          │ (<span style=\"color: #00d7ff; text-decoration-color: #00d7ff\">None</span>, <span style=\"color: #00af00; text-decoration-color: #00af00\">256</span>)       │  <span style=\"color: #00af00; text-decoration-color: #00af00\">2,585,920</span> │ image_input[<span style=\"color: #00af00; text-decoration-color: #00af00\">0</span>][<span style=\"color: #00af00; text-decoration-color: #00af00\">0</span>] │\n",
              "│ (<span style=\"color: #0087ff; text-decoration-color: #0087ff\">Sequential</span>)        │                   │            │                   │\n",
              "├─────────────────────┼───────────────────┼────────────┼───────────────────┤\n",
              "│ dense_6 (<span style=\"color: #0087ff; text-decoration-color: #0087ff\">Dense</span>)     │ (<span style=\"color: #00d7ff; text-decoration-color: #00d7ff\">None</span>, <span style=\"color: #00af00; text-decoration-color: #00af00\">128</span>)       │     <span style=\"color: #00af00; text-decoration-color: #00af00\">16,512</span> │ lstm_1[<span style=\"color: #00af00; text-decoration-color: #00af00\">0</span>][<span style=\"color: #00af00; text-decoration-color: #00af00\">0</span>]      │\n",
              "├─────────────────────┼───────────────────┼────────────┼───────────────────┤\n",
              "│ concatenate_2       │ (<span style=\"color: #00d7ff; text-decoration-color: #00d7ff\">None</span>, <span style=\"color: #00af00; text-decoration-color: #00af00\">384</span>)       │          <span style=\"color: #00af00; text-decoration-color: #00af00\">0</span> │ sequential[<span style=\"color: #00af00; text-decoration-color: #00af00\">2</span>][<span style=\"color: #00af00; text-decoration-color: #00af00\">0</span>], │\n",
              "│ (<span style=\"color: #0087ff; text-decoration-color: #0087ff\">Concatenate</span>)       │                   │            │ dense_6[<span style=\"color: #00af00; text-decoration-color: #00af00\">0</span>][<span style=\"color: #00af00; text-decoration-color: #00af00\">0</span>]     │\n",
              "├─────────────────────┼───────────────────┼────────────┼───────────────────┤\n",
              "│ dense_7 (<span style=\"color: #0087ff; text-decoration-color: #0087ff\">Dense</span>)     │ (<span style=\"color: #00d7ff; text-decoration-color: #00d7ff\">None</span>, <span style=\"color: #00af00; text-decoration-color: #00af00\">128</span>)       │     <span style=\"color: #00af00; text-decoration-color: #00af00\">49,280</span> │ concatenate_2[<span style=\"color: #00af00; text-decoration-color: #00af00\">0</span>]… │\n",
              "├─────────────────────┼───────────────────┼────────────┼───────────────────┤\n",
              "│ dropout_3 (<span style=\"color: #0087ff; text-decoration-color: #0087ff\">Dropout</span>) │ (<span style=\"color: #00d7ff; text-decoration-color: #00d7ff\">None</span>, <span style=\"color: #00af00; text-decoration-color: #00af00\">128</span>)       │          <span style=\"color: #00af00; text-decoration-color: #00af00\">0</span> │ dense_7[<span style=\"color: #00af00; text-decoration-color: #00af00\">0</span>][<span style=\"color: #00af00; text-decoration-color: #00af00\">0</span>]     │\n",
              "├─────────────────────┼───────────────────┼────────────┼───────────────────┤\n",
              "│ dense_8 (<span style=\"color: #0087ff; text-decoration-color: #0087ff\">Dense</span>)     │ (<span style=\"color: #00d7ff; text-decoration-color: #00d7ff\">None</span>, <span style=\"color: #00af00; text-decoration-color: #00af00\">4</span>)         │        <span style=\"color: #00af00; text-decoration-color: #00af00\">516</span> │ dropout_3[<span style=\"color: #00af00; text-decoration-color: #00af00\">0</span>][<span style=\"color: #00af00; text-decoration-color: #00af00\">0</span>]   │\n",
              "└─────────────────────┴───────────────────┴────────────┴───────────────────┘\n",
              "</pre>\n"
            ]
          },
          "metadata": {}
        },
        {
          "output_type": "display_data",
          "data": {
            "text/plain": [
              "\u001b[1m Total params: \u001b[0m\u001b[38;5;34m2,787,012\u001b[0m (10.63 MB)\n"
            ],
            "text/html": [
              "<pre style=\"white-space:pre;overflow-x:auto;line-height:normal;font-family:Menlo,'DejaVu Sans Mono',consolas,'Courier New',monospace\"><span style=\"font-weight: bold\"> Total params: </span><span style=\"color: #00af00; text-decoration-color: #00af00\">2,787,012</span> (10.63 MB)\n",
              "</pre>\n"
            ]
          },
          "metadata": {}
        },
        {
          "output_type": "display_data",
          "data": {
            "text/plain": [
              "\u001b[1m Trainable params: \u001b[0m\u001b[38;5;34m529,028\u001b[0m (2.02 MB)\n"
            ],
            "text/html": [
              "<pre style=\"white-space:pre;overflow-x:auto;line-height:normal;font-family:Menlo,'DejaVu Sans Mono',consolas,'Courier New',monospace\"><span style=\"font-weight: bold\"> Trainable params: </span><span style=\"color: #00af00; text-decoration-color: #00af00\">529,028</span> (2.02 MB)\n",
              "</pre>\n"
            ]
          },
          "metadata": {}
        },
        {
          "output_type": "display_data",
          "data": {
            "text/plain": [
              "\u001b[1m Non-trainable params: \u001b[0m\u001b[38;5;34m2,257,984\u001b[0m (8.61 MB)\n"
            ],
            "text/html": [
              "<pre style=\"white-space:pre;overflow-x:auto;line-height:normal;font-family:Menlo,'DejaVu Sans Mono',consolas,'Courier New',monospace\"><span style=\"font-weight: bold\"> Non-trainable params: </span><span style=\"color: #00af00; text-decoration-color: #00af00\">2,257,984</span> (8.61 MB)\n",
              "</pre>\n"
            ]
          },
          "metadata": {}
        }
      ]
    },
    {
      "cell_type": "markdown",
      "source": [
        "# -----------------------------\n",
        "# 7. CREATE CUSTOM DATASET\n",
        "# -----------------------------"
      ],
      "metadata": {
        "id": "RZrwEnYfBLrH"
      }
    },
    {
      "cell_type": "code",
      "source": [
        "# -----------------------------\n",
        "# MULTIMODAL GENERATOR (YIELDS ((image, text), label))\n",
        "# -----------------------------\n",
        "def multimodal_generator(image_gen, text_pad):\n",
        "    i = 0\n",
        "    n = len(text_pad)\n",
        "    while True:\n",
        "        imgs, labels = next(image_gen)\n",
        "        batch_size = imgs.shape[0]\n",
        "        texts = text_pad[i:i+batch_size]\n",
        "        if len(texts) < batch_size:\n",
        "            extra = batch_size - len(texts)\n",
        "            texts = np.concatenate([texts, text_pad[0:extra]])\n",
        "            i = 0\n",
        "        else:\n",
        "            i += batch_size\n",
        "        yield (imgs, texts), labels  # ✅ tuple, not list\n"
      ],
      "metadata": {
        "id": "tDQbithp_zyn"
      },
      "execution_count": null,
      "outputs": []
    },
    {
      "cell_type": "markdown",
      "source": [
        "# -----------------------------\n",
        "# WRAP IN TF.DATA.DATASET (TF 2.17 requirement)\n",
        "# -----------------------------"
      ],
      "metadata": {
        "id": "fg9F7HhWM5-b"
      }
    },
    {
      "cell_type": "code",
      "source": [
        "output_signature = (\n",
        "    (\n",
        "        tf.TensorSpec(shape=(None, 128, 128, 3), dtype=tf.float32),  # images\n",
        "        tf.TensorSpec(shape=(None, MAX_LEN), dtype=tf.int32)          # texts\n",
        "    ),\n",
        "    tf.TensorSpec(shape=(None, NUM_CLASSES), dtype=tf.float32)        # labels\n",
        ")\n",
        "\n",
        "train_ds = tf.data.Dataset.from_generator(\n",
        "    lambda: multimodal_generator(train_image_gen, train_pad),\n",
        "    output_signature=output_signature\n",
        ")\n",
        "test_ds = tf.data.Dataset.from_generator(\n",
        "    lambda: multimodal_generator(test_image_gen, test_pad),\n",
        "    output_signature=output_signature\n",
        ")"
      ],
      "metadata": {
        "id": "DSqShGNyGrji"
      },
      "execution_count": null,
      "outputs": []
    },
    {
      "cell_type": "markdown",
      "source": [
        "# -----------------------------\n",
        "# 8. TRAIN MODEL\n",
        "# -----------------------------"
      ],
      "metadata": {
        "id": "5RYR61BNBdeJ"
      }
    },
    {
      "cell_type": "code",
      "source": [
        "steps_per_epoch = len(train_image_gen)\n",
        "val_steps = len(test_image_gen)\n",
        "\n",
        "history = model.fit(\n",
        "    train_ds,\n",
        "    steps_per_epoch=steps_per_epoch,\n",
        "    epochs=EPOCHS,\n",
        "    validation_data=test_ds,\n",
        "    validation_steps=val_steps\n",
        ")"
      ],
      "metadata": {
        "colab": {
          "base_uri": "https://localhost:8080/"
        },
        "id": "yIkMLJw1IMfG",
        "outputId": "586c115f-64b2-4b55-d345-14c0722aea02"
      },
      "execution_count": null,
      "outputs": [
        {
          "output_type": "stream",
          "name": "stdout",
          "text": [
            "Epoch 1/10\n",
            "\u001b[1m180/180\u001b[0m \u001b[32m━━━━━━━━━━━━━━━━━━━━\u001b[0m\u001b[37m\u001b[0m \u001b[1m1238s\u001b[0m 7s/step - accuracy: 0.7880 - loss: 0.5462 - val_accuracy: 0.9663 - val_loss: 0.0923\n",
            "Epoch 2/10\n",
            "\u001b[1m180/180\u001b[0m \u001b[32m━━━━━━━━━━━━━━━━━━━━\u001b[0m\u001b[37m\u001b[0m \u001b[1m157s\u001b[0m 873ms/step - accuracy: 0.9779 - loss: 0.0725 - val_accuracy: 0.9781 - val_loss: 0.0607\n",
            "Epoch 3/10\n",
            "\u001b[1m180/180\u001b[0m \u001b[32m━━━━━━━━━━━━━━━━━━━━\u001b[0m\u001b[37m\u001b[0m \u001b[1m157s\u001b[0m 874ms/step - accuracy: 0.9901 - loss: 0.0283 - val_accuracy: 0.9837 - val_loss: 0.0573\n",
            "Epoch 4/10\n",
            "\u001b[1m180/180\u001b[0m \u001b[32m━━━━━━━━━━━━━━━━━━━━\u001b[0m\u001b[37m\u001b[0m \u001b[1m204s\u001b[0m 1s/step - accuracy: 0.9957 - loss: 0.0156 - val_accuracy: 0.9781 - val_loss: 0.0972\n",
            "Epoch 5/10\n",
            "\u001b[1m180/180\u001b[0m \u001b[32m━━━━━━━━━━━━━━━━━━━━\u001b[0m\u001b[37m\u001b[0m \u001b[1m158s\u001b[0m 878ms/step - accuracy: 0.9921 - loss: 0.0217 - val_accuracy: 0.9862 - val_loss: 0.0588\n",
            "Epoch 6/10\n",
            "\u001b[1m180/180\u001b[0m \u001b[32m━━━━━━━━━━━━━━━━━━━━\u001b[0m\u001b[37m\u001b[0m \u001b[1m157s\u001b[0m 872ms/step - accuracy: 0.9948 - loss: 0.0139 - val_accuracy: 0.9812 - val_loss: 0.0547\n",
            "Epoch 7/10\n",
            "\u001b[1m180/180\u001b[0m \u001b[32m━━━━━━━━━━━━━━━━━━━━\u001b[0m\u001b[37m\u001b[0m \u001b[1m202s\u001b[0m 1s/step - accuracy: 0.9962 - loss: 0.0116 - val_accuracy: 0.9906 - val_loss: 0.0448\n",
            "Epoch 8/10\n",
            "\u001b[1m180/180\u001b[0m \u001b[32m━━━━━━━━━━━━━━━━━━━━\u001b[0m\u001b[37m\u001b[0m \u001b[1m158s\u001b[0m 878ms/step - accuracy: 0.9965 - loss: 0.0119 - val_accuracy: 0.9900 - val_loss: 0.0452\n",
            "Epoch 9/10\n",
            "\u001b[1m180/180\u001b[0m \u001b[32m━━━━━━━━━━━━━━━━━━━━\u001b[0m\u001b[37m\u001b[0m \u001b[1m158s\u001b[0m 877ms/step - accuracy: 0.9967 - loss: 0.0089 - val_accuracy: 0.9850 - val_loss: 0.0671\n",
            "Epoch 10/10\n",
            "\u001b[1m180/180\u001b[0m \u001b[32m━━━━━━━━━━━━━━━━━━━━\u001b[0m\u001b[37m\u001b[0m \u001b[1m157s\u001b[0m 873ms/step - accuracy: 0.9975 - loss: 0.0096 - val_accuracy: 0.9737 - val_loss: 0.1503\n"
          ]
        }
      ]
    },
    {
      "cell_type": "markdown",
      "source": [],
      "metadata": {
        "id": "UsQUMLkiI-MN"
      }
    },
    {
      "cell_type": "markdown",
      "source": [
        "# -----------------------------\n",
        "# 10. SAVE MODEL\n",
        "# -----------------------------"
      ],
      "metadata": {
        "id": "FB5yuXgqJA54"
      }
    },
    {
      "cell_type": "code",
      "source": [
        "model.save(\"/content/drive/MyDrive/Colab Notebooks/Cv_nlp/Preprocessed/multimodal_papaya_model_v2_tf217.h5\")\n",
        "print(\"✅ Model training complete and saved successfully!\")"
      ],
      "metadata": {
        "id": "WqAEQNNvIj3f",
        "colab": {
          "base_uri": "https://localhost:8080/"
        },
        "outputId": "c9810893-ffb2-4ef3-a1d8-c145c9371795"
      },
      "execution_count": null,
      "outputs": [
        {
          "output_type": "stream",
          "name": "stderr",
          "text": [
            "WARNING:absl:You are saving your model as an HDF5 file via `model.save()` or `keras.saving.save_model(model)`. This file format is considered legacy. We recommend using instead the native Keras format, e.g. `model.save('my_model.keras')` or `keras.saving.save_model(model, 'my_model.keras')`. \n"
          ]
        },
        {
          "output_type": "stream",
          "name": "stdout",
          "text": [
            "✅ Model training complete and saved successfully!\n"
          ]
        }
      ]
    },
    {
      "cell_type": "code",
      "source": [],
      "metadata": {
        "id": "lJoZm1PmBXC1"
      },
      "execution_count": null,
      "outputs": []
    },
    {
      "cell_type": "code",
      "source": [
        "test_dir = \"/content/drive/MyDrive/Dataset/Test\"\n",
        "MODEL_PATH = \"/content/drive/MyDrive/Colab Notebooks/Cv_nlp/Preprocessed/multimodal_papaya_model_v2_tf217.h5\""
      ],
      "metadata": {
        "id": "hfBOBFsIBXI7"
      },
      "execution_count": null,
      "outputs": []
    },
    {
      "cell_type": "markdown",
      "source": [
        "# -----------------------------\n",
        "# LOAD TRAINED MODEL\n",
        "# -----------------------------"
      ],
      "metadata": {
        "id": "FDSn5jAMaFjV"
      }
    },
    {
      "cell_type": "code",
      "source": [
        "model = tf.keras.models.load_model(MODEL_PATH)\n",
        "print(\"✅ Model loaded successfully.\")"
      ],
      "metadata": {
        "id": "R7hzgslgBXO8",
        "colab": {
          "base_uri": "https://localhost:8080/"
        },
        "outputId": "5dedde8b-327d-44e5-80b3-8daf7a6f49de"
      },
      "execution_count": null,
      "outputs": [
        {
          "output_type": "stream",
          "name": "stderr",
          "text": [
            "WARNING:absl:Compiled the loaded model, but the compiled metrics have yet to be built. `model.compile_metrics` will be empty until you train or evaluate the model.\n"
          ]
        },
        {
          "output_type": "stream",
          "name": "stdout",
          "text": [
            "✅ Model loaded successfully.\n"
          ]
        }
      ]
    },
    {
      "cell_type": "markdown",
      "source": [
        "# -----------------------------\n",
        "# IMAGE DATA GENERATOR\n",
        "# -----------------------------"
      ],
      "metadata": {
        "id": "pVBIJX8raNT4"
      }
    },
    {
      "cell_type": "code",
      "source": [
        "datagen = ImageDataGenerator(rescale=1./255)\n",
        "test_image_gen = datagen.flow_from_directory(\n",
        "    test_dir,\n",
        "    target_size=IMAGE_SIZE,\n",
        "    batch_size=BATCH_SIZE,\n",
        "    class_mode='categorical',\n",
        "    shuffle=False\n",
        ")"
      ],
      "metadata": {
        "id": "eaeVf8sKBXU5",
        "colab": {
          "base_uri": "https://localhost:8080/"
        },
        "outputId": "5a0bc5c3-c1a7-487d-ad88-522645ee6a9b"
      },
      "execution_count": null,
      "outputs": [
        {
          "output_type": "stream",
          "name": "stdout",
          "text": [
            "Found 1600 images belonging to 4 classes.\n"
          ]
        }
      ]
    },
    {
      "cell_type": "code",
      "source": [
        "# -----------------------------\n",
        "# TEXT DESCRIPTIONS PER CLASS\n",
        "# -----------------------------\n",
        "text_descriptions = {\n",
        "    'Black_spot_papaya': 'Leaves covered with black spots indicating black spot infection.',\n",
        "    'Powdery_mildew': 'Papaya leaves showing powdery mildew infection typical of powdery disease.',\n",
        "    'Ring_spot_papaya': 'Ring spot disease on papaya leaves indicating ring spot disease.',\n",
        "    'Healthy_papaya': 'Healthy Papaya leaf with no visible signs of disease or damage.'\n",
        "}\n"
      ],
      "metadata": {
        "id": "mE58y5UUBXdu"
      },
      "execution_count": null,
      "outputs": []
    },
    {
      "cell_type": "code",
      "source": [
        "\n",
        "test_texts = [text_descriptions[os.path.basename(os.path.dirname(p))] for p in test_image_gen.filepaths]\n",
        "\n",
        "tokenizer = Tokenizer()\n",
        "tokenizer.fit_on_texts(list(text_descriptions.values()))\n",
        "test_seq = tokenizer.texts_to_sequences(test_texts)\n",
        "test_pad = pad_sequences(test_seq, maxlen=MAX_LEN, padding='post', truncating='post')"
      ],
      "metadata": {
        "id": "99qLIPE7ajNr"
      },
      "execution_count": null,
      "outputs": []
    },
    {
      "cell_type": "markdown",
      "source": [
        "# -----------------------------\n",
        "# TOKENIZE TEXTS (same logic as training)\n",
        "# -----------------------------"
      ],
      "metadata": {
        "id": "p-ex94d-asKj"
      }
    },
    {
      "cell_type": "code",
      "source": [
        "tokenizer = Tokenizer()\n",
        "tokenizer.fit_on_texts(list(text_descriptions.values()))\n",
        "test_seq = tokenizer.texts_to_sequences(test_texts)\n",
        "test_pad = pad_sequences(test_seq, maxlen=MAX_LEN, padding='post', truncating='post')\n"
      ],
      "metadata": {
        "id": "NP7oWnekajcl"
      },
      "execution_count": null,
      "outputs": []
    },
    {
      "cell_type": "markdown",
      "source": [
        "# -----------------------------\n",
        "# DEFINE TEST GENERATOR\n",
        "# -----------------------------"
      ],
      "metadata": {
        "id": "Ypc9OeCqawPM"
      }
    },
    {
      "cell_type": "code",
      "source": [
        "def multimodal_generator():\n",
        "    for i in range(len(test_image_gen)):\n",
        "        imgs, labels = test_image_gen[i]\n",
        "        start = i * BATCH_SIZE\n",
        "        end = start + imgs.shape[0]\n",
        "        texts = test_pad[start:end]\n",
        "        yield ({\"image_input\": imgs, \"text_input\": texts}, labels)\n"
      ],
      "metadata": {
        "id": "8vwdV5xoajn2"
      },
      "execution_count": null,
      "outputs": []
    },
    {
      "cell_type": "markdown",
      "source": [
        "# -----------------------------\n",
        "# WRAP IN TF.DATA.DATASET\n",
        "# -----------------------------"
      ],
      "metadata": {
        "id": "KuWy-RN-a8JZ"
      }
    },
    {
      "cell_type": "code",
      "source": [
        "output_signature = (\n",
        "    {\n",
        "        \"image_input\": tf.TensorSpec(shape=(None, *IMAGE_SIZE, 3), dtype=tf.float32),\n",
        "        \"text_input\": tf.TensorSpec(shape=(None, MAX_LEN), dtype=tf.int32),\n",
        "    },\n",
        "    tf.TensorSpec(shape=(None, NUM_CLASSES), dtype=tf.float32)\n",
        ")\n",
        "\n",
        "test_ds = tf.data.Dataset.from_generator(\n",
        "    multimodal_generator,\n",
        "    output_signature=output_signature\n",
        ")\n"
      ],
      "metadata": {
        "id": "tCkX-N99ajwB"
      },
      "execution_count": null,
      "outputs": []
    },
    {
      "cell_type": "markdown",
      "source": [
        "# -----------------------------\n",
        "# EVALUATE MODEL\n",
        "# -----------------------------"
      ],
      "metadata": {
        "id": "hFSRr3wwbBrT"
      }
    },
    {
      "cell_type": "code",
      "source": [
        "print(\"\\n🚀 Evaluating model on test dataset...\")\n",
        "results = model.evaluate(test_ds, verbose=1)"
      ],
      "metadata": {
        "colab": {
          "base_uri": "https://localhost:8080/"
        },
        "id": "ijRQwYRXaj2e",
        "outputId": "6d59b711-8b4d-4397-8102-ae93683f5582"
      },
      "execution_count": null,
      "outputs": [
        {
          "output_type": "stream",
          "name": "stdout",
          "text": [
            "\n",
            "🚀 Evaluating model on test dataset...\n",
            "\u001b[1m100/100\u001b[0m \u001b[32m━━━━━━━━━━━━━━━━━━━━\u001b[0m\u001b[37m\u001b[0m \u001b[1m31s\u001b[0m 286ms/step - accuracy: 0.9634 - loss: 0.1860\n"
          ]
        },
        {
          "output_type": "stream",
          "name": "stderr",
          "text": [
            "/usr/local/lib/python3.12/dist-packages/keras/src/trainers/epoch_iterator.py:160: UserWarning: Your input ran out of data; interrupting training. Make sure that your dataset or generator can generate at least `steps_per_epoch * epochs` batches. You may need to use the `.repeat()` function when building your dataset.\n",
            "  self._interrupted_warning()\n"
          ]
        }
      ]
    },
    {
      "cell_type": "code",
      "source": [
        "loss, acc = results[0], results[1]\n",
        "print(f\"\\n✅ Test Accuracy: {acc*100:.2f}%\")\n",
        "print(f\"📉 Test Loss: {loss:.4f}\")"
      ],
      "metadata": {
        "colab": {
          "base_uri": "https://localhost:8080/"
        },
        "id": "f6WjQT5EgEmJ",
        "outputId": "abd515d6-0159-465e-e41a-5fd57b8cfce3"
      },
      "execution_count": null,
      "outputs": [
        {
          "output_type": "stream",
          "name": "stdout",
          "text": [
            "\n",
            "✅ Test Accuracy: 97.37%\n",
            "📉 Test Loss: 0.1503\n"
          ]
        }
      ]
    },
    {
      "cell_type": "markdown",
      "source": [
        "\n",
        "# -----------------------------\n",
        "# GET PREDICTIONS (OPTIONAL)\n",
        "# -----------------------------"
      ],
      "metadata": {
        "id": "2C750WF_bDX4"
      }
    },
    {
      "cell_type": "code",
      "source": [
        "preds = model.predict(test_ds, verbose=1)\n",
        "pred_classes = np.argmax(preds, axis=1)\n",
        "true_classes = test_image_gen.classes\n",
        "class_labels = list(test_image_gen.class_indices.keys())"
      ],
      "metadata": {
        "colab": {
          "base_uri": "https://localhost:8080/"
        },
        "id": "pNwRtsejaj8E",
        "outputId": "721634a8-a68e-4959-c395-05c3067068af"
      },
      "execution_count": null,
      "outputs": [
        {
          "output_type": "stream",
          "name": "stdout",
          "text": [
            "\u001b[1m100/100\u001b[0m \u001b[32m━━━━━━━━━━━━━━━━━━━━\u001b[0m\u001b[37m\u001b[0m \u001b[1m29s\u001b[0m 269ms/step\n"
          ]
        }
      ]
    },
    {
      "cell_type": "markdown",
      "source": [
        "# Confusion Matrix"
      ],
      "metadata": {
        "id": "WuIpVaPmbKDu"
      }
    },
    {
      "cell_type": "code",
      "source": [
        "cm = confusion_matrix(true_classes, pred_classes)\n",
        "cr = classification_report(true_classes, pred_classes, target_names=class_labels)"
      ],
      "metadata": {
        "id": "U7vVn-jeakBO"
      },
      "execution_count": null,
      "outputs": []
    },
    {
      "cell_type": "code",
      "source": [
        "print(\"\\n📊 Confusion Matrix:\")\n",
        "print(cm)\n",
        "print(\"\\n🧾 Classification Report:\")\n",
        "print(cr)"
      ],
      "metadata": {
        "colab": {
          "base_uri": "https://localhost:8080/"
        },
        "id": "pH6JHw5_bTXP",
        "outputId": "4a756370-3050-473b-c9af-2b65a74890e3"
      },
      "execution_count": null,
      "outputs": [
        {
          "output_type": "stream",
          "name": "stdout",
          "text": [
            "\n",
            "📊 Confusion Matrix:\n",
            "[[377  14   4   5]\n",
            " [  0 397   0   3]\n",
            " [  0   6 388   6]\n",
            " [  0   0   4 396]]\n",
            "\n",
            "🧾 Classification Report:\n",
            "                   precision    recall  f1-score   support\n",
            "\n",
            "Black_spot_papaya       1.00      0.94      0.97       400\n",
            "   Healthy_papaya       0.95      0.99      0.97       400\n",
            "   Powdery_mildew       0.98      0.97      0.97       400\n",
            " Ring_spot_papaya       0.97      0.99      0.98       400\n",
            "\n",
            "         accuracy                           0.97      1600\n",
            "        macro avg       0.97      0.97      0.97      1600\n",
            "     weighted avg       0.97      0.97      0.97      1600\n",
            "\n"
          ]
        }
      ]
    },
    {
      "cell_type": "markdown",
      "source": [],
      "metadata": {
        "id": "o0qB4-0yBNAj"
      }
    }
  ]
}
